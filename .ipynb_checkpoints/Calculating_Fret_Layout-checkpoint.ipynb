{
 "cells": [
  {
   "cell_type": "markdown",
   "metadata": {},
   "source": [
    "# Fret, Nut and Saddle Compensation for Correct Intonation\n",
    "\n",
    "This notebook show how to calculate fret positions on a stringed instrument and calculate offsets to apply to the nut and saddle to allow the instrument to intonate better. References:\n",
    "\n",
    " * [https://www.luth.org/images/web_extras/al116/MagliariFretComp.pdf](https://www.luth.org/images/web_extras/al116/MagliariFretComp.pdf)\n",
    " * [https://www.liutaiomottola.com/formulae/fret.htm](https://www.liutaiomottola.com/formulae/fret.htm)\n",
    " * [http://www.setitupbetter.com/Picture-Guitar-Intonation.php](http://www.setitupbetter.com/Picture-Guitar-Intonation.php)\n",
    " \n",
    "Fret positions on a guitar, mandolin or ukulele have traditionally been determined by a geometric progression known as the 'rule of 18', or more precisely: 17.817153. The rule specifies that you repeatedly divide the scale length (distance from the nut to the saddle) by 17.817153 to locate each of the frets with respect to the nut.\n",
    "\n",
    "This is equivalent to taking a geometric progression from the *saddle* according to:\n",
    "\n",
    "```\n",
    "L0 = Scale Length\n",
    "L1 = L0 / 2**(1/12)\n",
    "L2 = L1 / 2**(1/12)\n",
    "L3 = etc ...\n",
    "```\n",
    "\n",
    "Using *python*, we can calculate the fret positions like so:"
   ]
  },
  {
   "cell_type": "code",
   "execution_count": 1,
   "metadata": {},
   "outputs": [
    {
     "name": "stdout",
     "output_type": "stream",
     "text": [
      "Fret  Nut_Distance  String_Length  Frequency\n",
      "              (mm)           (mm)       (Hz)\n",
      "--------------------------------------------------\n",
      "  0:           0.0          376.0     440.00\n",
      "  1:          21.1          354.9     466.16\n",
      "  2:          41.0          335.0     493.88\n",
      "  3:          59.8          316.2     523.25\n",
      "  4:          77.6          298.4     554.37\n",
      "  5:          94.3          281.7     587.33\n",
      "  6:         110.1          265.9     622.25\n",
      "  7:         125.1          250.9     659.26\n",
      "  8:         139.1          236.9     698.46\n",
      "  9:         152.4          223.6     739.99\n",
      " 10:         165.0          211.0     783.99\n",
      " 11:         176.8          199.2     830.61\n",
      " 12:         188.0          188.0     880.00\n",
      " 13:         198.6          177.4     932.33\n",
      " 14:         208.5          167.5     987.77\n",
      " 15:         217.9          158.1    1046.50\n",
      " 16:         226.8          149.2    1108.73\n",
      " 17:         235.2          140.8    1174.66\n",
      " 18:         243.1          132.9    1244.51\n"
     ]
    }
   ],
   "source": [
    "# Necessary imports\n",
    "from matplotlib import pyplot as plt\n",
    "import numpy as np\n",
    "%matplotlib inline\n",
    "\n",
    "# Function to calculate fret positions\n",
    "def calc_fret_positions(scaleLength, nFrets=18, freqOpen_Hz=440.0, verbose=False):\n",
    "    \"\"\"\n",
    "    Return arrays of fret offset from nut, string length and frequency for\n",
    "    an ideal instrument given a scale length.\n",
    "    \"\"\"\n",
    "    \n",
    "    distNutLst = []\n",
    "    stringLenLst = []\n",
    "    freqLst = []\n",
    "    if verbose:\n",
    "        print(\"Fret  Nut_Distance  String_Length  Frequency\")\n",
    "        print(\"              (mm)           (mm)       (Hz)\")\n",
    "        print(\"-\" * 50)\n",
    "    for i in range(0, nFrets+1):\n",
    "        stringLen = scaleLength / (2**(i / 12))\n",
    "        stringLenLst.append(stringLen)\n",
    "        freq_Hz = freqOpen_Hz * scaleLength / stringLen\n",
    "        freqLst.append(freq_Hz)\n",
    "        distFromNut = scaleLength - stringLen\n",
    "        distNutLst.append(distFromNut)\n",
    "        if verbose:\n",
    "            print(\" {:2d}: {:13.1f} {:14.1f} {:10.2f}\".format(i, distFromNut, stringLen,freq_Hz))\n",
    "    return np.array(distNutLst), np.array(stringLenLst), np.array(freqLst)\n",
    "\n",
    "# Calculate for a scale-length of 376mm tuned to A4 (440 Hz)\n",
    "distNutArr, stringLenArr, freqArr = calc_fret_positions(376, 18, 440.0, verbose=True)"
   ]
  },
  {
   "cell_type": "markdown",
   "metadata": {},
   "source": [
    "These positions are correct for an *ideal instrument*, that is one whose strings are not deflected by pressing down on them. In reality, the tension on each string is increased because of the '*clothesline effect*'. This must be calculated for each string seperately, at each fret position, taking into account the string action and width of the finger pressing down. \n",
    "\n",
    "The next cell presents python code to calculate the *increase in length* due to the clothesline effect. Note that the corresponding increase in tension will depend on string properties (mass-per-unit-length, cross-sectional area) and open tuned frequency."
   ]
  },
  {
   "cell_type": "code",
   "execution_count": null,
   "metadata": {},
   "outputs": [],
   "source": []
  }
 ],
 "metadata": {
  "kernelspec": {
   "display_name": "Python 3",
   "language": "python",
   "name": "python3"
  },
  "language_info": {
   "codemirror_mode": {
    "name": "ipython",
    "version": 3
   },
   "file_extension": ".py",
   "mimetype": "text/x-python",
   "name": "python",
   "nbconvert_exporter": "python",
   "pygments_lexer": "ipython3",
   "version": "3.6.6"
  }
 },
 "nbformat": 4,
 "nbformat_minor": 2
}
